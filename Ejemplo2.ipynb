{
 "cells": [
  {
   "cell_type": "code",
   "execution_count": 1,
   "metadata": {},
   "outputs": [],
   "source": [
    "from ProcessO2 import ProcessO2"
   ]
  },
  {
   "cell_type": "code",
   "execution_count": 2,
   "metadata": {},
   "outputs": [
    {
     "name": "stdout",
     "output_type": "stream",
     "text": [
      "================ Without Null Data =============\n",
      "            FechaHora  SpO2(%)  Pulso(lpm)  Movimiento  Vibración\n",
      "0 2020-03-27 21:14:11       95          91           0          0\n",
      "1 2020-03-27 21:14:15       95          91           0          0\n",
      "2 2020-03-27 21:14:19       96          87           2          0\n",
      "3 2020-03-27 21:14:23       96          87           3          0\n",
      "4 2020-03-27 21:14:27       96          88           0          0\n",
      "             SpO2(%)     Pulso(lpm)     Movimiento      Vibración\n",
      "count  137858.000000  137858.000000  137858.000000  137858.000000\n",
      "mean       97.196144      58.967104       0.752920       0.001857\n",
      "std         0.997623       9.596211       4.286849       0.487537\n",
      "min        88.000000      33.000000       0.000000       0.000000\n",
      "25%        97.000000      55.000000       0.000000       0.000000\n",
      "50%        97.000000      57.000000       0.000000       0.000000\n",
      "75%        98.000000      60.000000       0.000000       0.000000\n",
      "max       100.000000     131.000000     147.000000     128.000000\n",
      "FechaHora     datetime64[ns]\n",
      "SpO2(%)                int32\n",
      "Pulso(lpm)             int32\n",
      "Movimiento             int32\n",
      "Vibración              int32\n",
      "dtype: object\n"
     ]
    }
   ],
   "source": [
    "model = ProcessO2('../O2Measures/*.csv')\n",
    "data = model.get_all_data()\n",
    "print(\"================ Without Null Data =============\")\n",
    "print(data.head())\n",
    "print(data.describe())\n",
    "print(data.dtypes)"
   ]
  },
  {
   "cell_type": "code",
   "execution_count": 3,
   "metadata": {},
   "outputs": [
    {
     "data": {
      "text/plain": [
       "97     72095\n",
       "98     46629\n",
       "96      9226\n",
       "99      4151\n",
       "95      2005\n",
       "94      1718\n",
       "93      1077\n",
       "92       582\n",
       "91       267\n",
       "90        91\n",
       "100        9\n",
       "88         7\n",
       "89         1\n",
       "Name: SpO2(%), dtype: int64"
      ]
     },
     "execution_count": 3,
     "metadata": {},
     "output_type": "execute_result"
    }
   ],
   "source": [
    "data['SpO2(%)'].value_counts()"
   ]
  },
  {
   "cell_type": "code",
   "execution_count": 4,
   "metadata": {},
   "outputs": [],
   "source": [
    "dataf=data.set_index('FechaHora')"
   ]
  },
  {
   "cell_type": "code",
   "execution_count": 5,
   "metadata": {},
   "outputs": [],
   "source": [
    "noches = dataf.between_time('00:00', '11:00')\n",
    "dias = dataf.between_time('11:01', '23:59')"
   ]
  },
  {
   "cell_type": "code",
   "execution_count": 6,
   "metadata": {},
   "outputs": [
    {
     "data": {
      "text/html": [
       "<div>\n",
       "<style scoped>\n",
       "    .dataframe tbody tr th:only-of-type {\n",
       "        vertical-align: middle;\n",
       "    }\n",
       "\n",
       "    .dataframe tbody tr th {\n",
       "        vertical-align: top;\n",
       "    }\n",
       "\n",
       "    .dataframe thead th {\n",
       "        text-align: right;\n",
       "    }\n",
       "</style>\n",
       "<table border=\"1\" class=\"dataframe\">\n",
       "  <thead>\n",
       "    <tr style=\"text-align: right;\">\n",
       "      <th></th>\n",
       "      <th>SpO2(%)</th>\n",
       "      <th>Pulso(lpm)</th>\n",
       "      <th>Movimiento</th>\n",
       "      <th>Vibración</th>\n",
       "    </tr>\n",
       "  </thead>\n",
       "  <tbody>\n",
       "    <tr>\n",
       "      <th>count</th>\n",
       "      <td>130988.000000</td>\n",
       "      <td>130988.000000</td>\n",
       "      <td>130988.000000</td>\n",
       "      <td>130988.0</td>\n",
       "    </tr>\n",
       "    <tr>\n",
       "      <th>mean</th>\n",
       "      <td>97.339184</td>\n",
       "      <td>57.221723</td>\n",
       "      <td>0.467944</td>\n",
       "      <td>0.0</td>\n",
       "    </tr>\n",
       "    <tr>\n",
       "      <th>std</th>\n",
       "      <td>0.696314</td>\n",
       "      <td>3.833389</td>\n",
       "      <td>3.630507</td>\n",
       "      <td>0.0</td>\n",
       "    </tr>\n",
       "    <tr>\n",
       "      <th>min</th>\n",
       "      <td>92.000000</td>\n",
       "      <td>33.000000</td>\n",
       "      <td>0.000000</td>\n",
       "      <td>0.0</td>\n",
       "    </tr>\n",
       "    <tr>\n",
       "      <th>25%</th>\n",
       "      <td>97.000000</td>\n",
       "      <td>55.000000</td>\n",
       "      <td>0.000000</td>\n",
       "      <td>0.0</td>\n",
       "    </tr>\n",
       "    <tr>\n",
       "      <th>50%</th>\n",
       "      <td>97.000000</td>\n",
       "      <td>57.000000</td>\n",
       "      <td>0.000000</td>\n",
       "      <td>0.0</td>\n",
       "    </tr>\n",
       "    <tr>\n",
       "      <th>75%</th>\n",
       "      <td>98.000000</td>\n",
       "      <td>59.000000</td>\n",
       "      <td>0.000000</td>\n",
       "      <td>0.0</td>\n",
       "    </tr>\n",
       "    <tr>\n",
       "      <th>max</th>\n",
       "      <td>100.000000</td>\n",
       "      <td>97.000000</td>\n",
       "      <td>147.000000</td>\n",
       "      <td>0.0</td>\n",
       "    </tr>\n",
       "  </tbody>\n",
       "</table>\n",
       "</div>"
      ],
      "text/plain": [
       "             SpO2(%)     Pulso(lpm)     Movimiento  Vibración\n",
       "count  130988.000000  130988.000000  130988.000000   130988.0\n",
       "mean       97.339184      57.221723       0.467944        0.0\n",
       "std         0.696314       3.833389       3.630507        0.0\n",
       "min        92.000000      33.000000       0.000000        0.0\n",
       "25%        97.000000      55.000000       0.000000        0.0\n",
       "50%        97.000000      57.000000       0.000000        0.0\n",
       "75%        98.000000      59.000000       0.000000        0.0\n",
       "max       100.000000      97.000000     147.000000        0.0"
      ]
     },
     "execution_count": 6,
     "metadata": {},
     "output_type": "execute_result"
    }
   ],
   "source": [
    "noches.describe()"
   ]
  },
  {
   "cell_type": "code",
   "execution_count": 7,
   "metadata": {},
   "outputs": [
    {
     "data": {
      "text/html": [
       "<div>\n",
       "<style scoped>\n",
       "    .dataframe tbody tr th:only-of-type {\n",
       "        vertical-align: middle;\n",
       "    }\n",
       "\n",
       "    .dataframe tbody tr th {\n",
       "        vertical-align: top;\n",
       "    }\n",
       "\n",
       "    .dataframe thead th {\n",
       "        text-align: right;\n",
       "    }\n",
       "</style>\n",
       "<table border=\"1\" class=\"dataframe\">\n",
       "  <thead>\n",
       "    <tr style=\"text-align: right;\">\n",
       "      <th></th>\n",
       "      <th>SpO2(%)</th>\n",
       "      <th>Pulso(lpm)</th>\n",
       "      <th>Movimiento</th>\n",
       "      <th>Vibración</th>\n",
       "    </tr>\n",
       "  </thead>\n",
       "  <tbody>\n",
       "    <tr>\n",
       "      <th>count</th>\n",
       "      <td>6855.000000</td>\n",
       "      <td>6855.000000</td>\n",
       "      <td>6855.000000</td>\n",
       "      <td>6855.000000</td>\n",
       "    </tr>\n",
       "    <tr>\n",
       "      <th>mean</th>\n",
       "      <td>94.463457</td>\n",
       "      <td>92.323997</td>\n",
       "      <td>6.200000</td>\n",
       "      <td>0.037345</td>\n",
       "    </tr>\n",
       "    <tr>\n",
       "      <th>std</th>\n",
       "      <td>1.700538</td>\n",
       "      <td>20.006745</td>\n",
       "      <td>9.300646</td>\n",
       "      <td>2.186198</td>\n",
       "    </tr>\n",
       "    <tr>\n",
       "      <th>min</th>\n",
       "      <td>88.000000</td>\n",
       "      <td>51.000000</td>\n",
       "      <td>0.000000</td>\n",
       "      <td>0.000000</td>\n",
       "    </tr>\n",
       "    <tr>\n",
       "      <th>25%</th>\n",
       "      <td>93.000000</td>\n",
       "      <td>74.000000</td>\n",
       "      <td>2.000000</td>\n",
       "      <td>0.000000</td>\n",
       "    </tr>\n",
       "    <tr>\n",
       "      <th>50%</th>\n",
       "      <td>95.000000</td>\n",
       "      <td>95.000000</td>\n",
       "      <td>3.000000</td>\n",
       "      <td>0.000000</td>\n",
       "    </tr>\n",
       "    <tr>\n",
       "      <th>75%</th>\n",
       "      <td>96.000000</td>\n",
       "      <td>110.000000</td>\n",
       "      <td>7.000000</td>\n",
       "      <td>0.000000</td>\n",
       "    </tr>\n",
       "    <tr>\n",
       "      <th>max</th>\n",
       "      <td>98.000000</td>\n",
       "      <td>131.000000</td>\n",
       "      <td>139.000000</td>\n",
       "      <td>128.000000</td>\n",
       "    </tr>\n",
       "  </tbody>\n",
       "</table>\n",
       "</div>"
      ],
      "text/plain": [
       "           SpO2(%)   Pulso(lpm)   Movimiento    Vibración\n",
       "count  6855.000000  6855.000000  6855.000000  6855.000000\n",
       "mean     94.463457    92.323997     6.200000     0.037345\n",
       "std       1.700538    20.006745     9.300646     2.186198\n",
       "min      88.000000    51.000000     0.000000     0.000000\n",
       "25%      93.000000    74.000000     2.000000     0.000000\n",
       "50%      95.000000    95.000000     3.000000     0.000000\n",
       "75%      96.000000   110.000000     7.000000     0.000000\n",
       "max      98.000000   131.000000   139.000000   128.000000"
      ]
     },
     "execution_count": 7,
     "metadata": {},
     "output_type": "execute_result"
    }
   ],
   "source": [
    "dias.describe()"
   ]
  },
  {
   "cell_type": "code",
   "execution_count": null,
   "metadata": {},
   "outputs": [],
   "source": []
  }
 ],
 "metadata": {
  "kernelspec": {
   "display_name": "Python 3",
   "language": "python",
   "name": "python3"
  },
  "language_info": {
   "codemirror_mode": {
    "name": "ipython",
    "version": 3
   },
   "file_extension": ".py",
   "mimetype": "text/x-python",
   "name": "python",
   "nbconvert_exporter": "python",
   "pygments_lexer": "ipython3",
   "version": "3.6.8"
  }
 },
 "nbformat": 4,
 "nbformat_minor": 4
}
