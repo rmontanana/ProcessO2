{
 "cells": [
  {
   "cell_type": "code",
   "execution_count": 2,
   "metadata": {},
   "outputs": [],
   "source": [
    "from ProcessO2 import ProcessO2\n",
    "from ExtractO2 import ExtractO2"
   ]
  },
  {
   "cell_type": "code",
   "execution_count": 3,
   "metadata": {},
   "outputs": [
    {
     "output_type": "stream",
     "name": "stdout",
     "text": "================ Without Null Data =============\n            FechaHora  SpO2(%)  Pulso(lpm)  Movimiento  Vibración\n0 2020-03-27 21:14:11       95          91           0          0\n1 2020-03-27 21:14:15       95          91           0          0\n2 2020-03-27 21:14:19       96          87           2          0\n3 2020-03-27 21:14:23       96          87           3          0\n4 2020-03-27 21:14:27       96          88           0          0\n             SpO2(%)     Pulso(lpm)     Movimiento      Vibración\ncount  137858.000000  137858.000000  137858.000000  137858.000000\nmean       97.196144      58.967104       0.752920       0.001857\nstd         0.997623       9.596211       4.286849       0.487537\nmin        88.000000      33.000000       0.000000       0.000000\n25%        97.000000      55.000000       0.000000       0.000000\n50%        97.000000      57.000000       0.000000       0.000000\n75%        98.000000      60.000000       0.000000       0.000000\nmax       100.000000     131.000000     147.000000     128.000000\nFechaHora     datetime64[ns]\nSpO2(%)                int32\nPulso(lpm)             int32\nMovimiento             int32\nVibración              int32\ndtype: object\n"
    }
   ],
   "source": [
    "model = ProcessO2('../O2Measures/*.csv')\n",
    "data = model.get_all_data()\n",
    "print(\"================ Without Null Data =============\")\n",
    "print(data.head())\n",
    "print(data.describe())\n",
    "print(data.dtypes)"
   ]
  },
  {
   "cell_type": "code",
   "execution_count": 4,
   "metadata": {},
   "outputs": [
    {
     "output_type": "execute_result",
     "data": {
      "text/plain": "97     72095\n98     46629\n96      9226\n99      4151\n95      2005\n94      1718\n93      1077\n92       582\n91       267\n90        91\n100        9\n88         7\n89         1\nName: SpO2(%), dtype: int64"
     },
     "metadata": {},
     "execution_count": 4
    }
   ],
   "source": [
    "data['SpO2(%)'].value_counts()"
   ]
  },
  {
   "cell_type": "code",
   "execution_count": 5,
   "metadata": {},
   "outputs": [],
   "source": [
    "summary = ExtractO2(data)\n",
    "days, nights = summary.compute_days_nights()"
   ]
  },
  {
   "cell_type": "code",
   "execution_count": 6,
   "metadata": {},
   "outputs": [
    {
     "output_type": "execute_result",
     "data": {
      "text/plain": "             SpO2(%)     Pulso(lpm)     Movimiento  Vibración\ncount  131173.000000  131173.000000  131173.000000   131173.0\nmean       97.338629      57.219717       0.468328        0.0\nstd         0.696053       3.831369       3.629302        0.0\nmin        92.000000      33.000000       0.000000        0.0\n25%        97.000000      55.000000       0.000000        0.0\n50%        97.000000      57.000000       0.000000        0.0\n75%        98.000000      59.000000       0.000000        0.0\nmax       100.000000      97.000000     147.000000        0.0",
      "text/html": "<div>\n<style scoped>\n    .dataframe tbody tr th:only-of-type {\n        vertical-align: middle;\n    }\n\n    .dataframe tbody tr th {\n        vertical-align: top;\n    }\n\n    .dataframe thead th {\n        text-align: right;\n    }\n</style>\n<table border=\"1\" class=\"dataframe\">\n  <thead>\n    <tr style=\"text-align: right;\">\n      <th></th>\n      <th>SpO2(%)</th>\n      <th>Pulso(lpm)</th>\n      <th>Movimiento</th>\n      <th>Vibración</th>\n    </tr>\n  </thead>\n  <tbody>\n    <tr>\n      <th>count</th>\n      <td>131173.000000</td>\n      <td>131173.000000</td>\n      <td>131173.000000</td>\n      <td>131173.0</td>\n    </tr>\n    <tr>\n      <th>mean</th>\n      <td>97.338629</td>\n      <td>57.219717</td>\n      <td>0.468328</td>\n      <td>0.0</td>\n    </tr>\n    <tr>\n      <th>std</th>\n      <td>0.696053</td>\n      <td>3.831369</td>\n      <td>3.629302</td>\n      <td>0.0</td>\n    </tr>\n    <tr>\n      <th>min</th>\n      <td>92.000000</td>\n      <td>33.000000</td>\n      <td>0.000000</td>\n      <td>0.0</td>\n    </tr>\n    <tr>\n      <th>25%</th>\n      <td>97.000000</td>\n      <td>55.000000</td>\n      <td>0.000000</td>\n      <td>0.0</td>\n    </tr>\n    <tr>\n      <th>50%</th>\n      <td>97.000000</td>\n      <td>57.000000</td>\n      <td>0.000000</td>\n      <td>0.0</td>\n    </tr>\n    <tr>\n      <th>75%</th>\n      <td>98.000000</td>\n      <td>59.000000</td>\n      <td>0.000000</td>\n      <td>0.0</td>\n    </tr>\n    <tr>\n      <th>max</th>\n      <td>100.000000</td>\n      <td>97.000000</td>\n      <td>147.000000</td>\n      <td>0.0</td>\n    </tr>\n  </tbody>\n</table>\n</div>"
     },
     "metadata": {},
     "execution_count": 6
    }
   ],
   "source": [
    "nights.describe()"
   ]
  },
  {
   "cell_type": "code",
   "execution_count": 7,
   "metadata": {},
   "outputs": [
    {
     "output_type": "execute_result",
     "data": {
      "text/plain": "           SpO2(%)   Pulso(lpm)   Movimiento    Vibración\ncount  6685.000000  6685.000000  6685.000000  6685.000000\nmean     94.400299    93.254301     6.337173     0.038295\nstd       1.674107    19.377914     9.367681     2.213817\nmin      88.000000    51.000000     0.000000     0.000000\n25%      93.000000    75.000000     2.000000     0.000000\n50%      95.000000    96.000000     3.000000     0.000000\n75%      96.000000   111.000000     7.000000     0.000000\nmax      98.000000   131.000000   139.000000   128.000000",
      "text/html": "<div>\n<style scoped>\n    .dataframe tbody tr th:only-of-type {\n        vertical-align: middle;\n    }\n\n    .dataframe tbody tr th {\n        vertical-align: top;\n    }\n\n    .dataframe thead th {\n        text-align: right;\n    }\n</style>\n<table border=\"1\" class=\"dataframe\">\n  <thead>\n    <tr style=\"text-align: right;\">\n      <th></th>\n      <th>SpO2(%)</th>\n      <th>Pulso(lpm)</th>\n      <th>Movimiento</th>\n      <th>Vibración</th>\n    </tr>\n  </thead>\n  <tbody>\n    <tr>\n      <th>count</th>\n      <td>6685.000000</td>\n      <td>6685.000000</td>\n      <td>6685.000000</td>\n      <td>6685.000000</td>\n    </tr>\n    <tr>\n      <th>mean</th>\n      <td>94.400299</td>\n      <td>93.254301</td>\n      <td>6.337173</td>\n      <td>0.038295</td>\n    </tr>\n    <tr>\n      <th>std</th>\n      <td>1.674107</td>\n      <td>19.377914</td>\n      <td>9.367681</td>\n      <td>2.213817</td>\n    </tr>\n    <tr>\n      <th>min</th>\n      <td>88.000000</td>\n      <td>51.000000</td>\n      <td>0.000000</td>\n      <td>0.000000</td>\n    </tr>\n    <tr>\n      <th>25%</th>\n      <td>93.000000</td>\n      <td>75.000000</td>\n      <td>2.000000</td>\n      <td>0.000000</td>\n    </tr>\n    <tr>\n      <th>50%</th>\n      <td>95.000000</td>\n      <td>96.000000</td>\n      <td>3.000000</td>\n      <td>0.000000</td>\n    </tr>\n    <tr>\n      <th>75%</th>\n      <td>96.000000</td>\n      <td>111.000000</td>\n      <td>7.000000</td>\n      <td>0.000000</td>\n    </tr>\n    <tr>\n      <th>max</th>\n      <td>98.000000</td>\n      <td>131.000000</td>\n      <td>139.000000</td>\n      <td>128.000000</td>\n    </tr>\n  </tbody>\n</table>\n</div>"
     },
     "metadata": {},
     "execution_count": 7
    }
   ],
   "source": [
    "days.describe()"
   ]
  },
  {
   "cell_type": "code",
   "execution_count": 9,
   "metadata": {},
   "outputs": [
    {
     "output_type": "execute_result",
     "data": {
      "text/plain": "[{'num_registros': 6685},\n {'Fecha inicio': \"'27-03-2020'\", 'Fecha fin': \"'07-04-2020'\"},\n {'SpO2':              count       mean       std   min   25%   50%   75%   max\n  FechaHora                                                            \n  2020-03-27   862.0  93.990719  1.821897  88.0  93.0  94.0  95.0  98.0\n  2020-03-28  3021.0  94.798742  1.554915  90.0  94.0  95.0  96.0  98.0\n  2020-03-29     0.0        NaN       NaN   NaN   NaN   NaN   NaN   NaN\n  2020-03-30   592.0  94.496622  1.803359  90.0  93.0  94.0  96.0  98.0\n  2020-03-31     0.0        NaN       NaN   NaN   NaN   NaN   NaN   NaN\n  2020-04-01     0.0        NaN       NaN   NaN   NaN   NaN   NaN   NaN\n  2020-04-02   575.0  93.794783  1.486164  90.0  93.0  94.0  95.0  97.0\n  2020-04-03   569.0  94.790861  1.511757  90.0  94.0  95.0  96.0  97.0\n  2020-04-04   583.0  94.229846  1.163004  91.0  93.0  94.0  95.0  96.0\n  2020-04-05     0.0        NaN       NaN   NaN   NaN   NaN   NaN   NaN\n  2020-04-06     0.0        NaN       NaN   NaN   NaN   NaN   NaN   NaN\n  2020-04-07   483.0  92.987578  1.698135  90.0  91.0  93.0  94.0  96.0},\n {'Latidos':              count        mean        std   min    25%    50%    75%    max\n  FechaHora                                                                  \n  2020-03-27   862.0   96.871230  16.910872  57.0   86.0   98.0  110.0  131.0\n  2020-03-28  3021.0   79.539225  15.971898  57.0   68.0   75.0   84.0  131.0\n  2020-03-29     0.0         NaN        NaN   NaN    NaN    NaN    NaN    NaN\n  2020-03-30   592.0  102.646959  12.983343  70.0   95.0  106.0  112.0  122.0\n  2020-03-31     0.0         NaN        NaN   NaN    NaN    NaN    NaN    NaN\n  2020-04-01     0.0         NaN        NaN   NaN    NaN    NaN    NaN    NaN\n  2020-04-02   575.0  107.224348  10.604553  75.0  100.0  108.0  117.0  128.0\n  2020-04-03   569.0  106.212654  11.482938  74.0   97.0  108.0  116.0  126.0\n  2020-04-04   583.0  111.847341   9.901700  61.0  108.0  114.0  118.0  127.0\n  2020-04-05     0.0         NaN        NaN   NaN    NaN    NaN    NaN    NaN\n  2020-04-06     0.0         NaN        NaN   NaN    NaN    NaN    NaN    NaN\n  2020-04-07   483.0  106.730849  11.904618  51.0  102.0  107.0  114.0  127.0}]"
     },
     "metadata": {},
     "execution_count": 9
    }
   ],
   "source": [
    "summary.data_info_frame(days)"
   ]
  },
  {
   "cell_type": "code",
   "execution_count": 10,
   "metadata": {},
   "outputs": [
    {
     "output_type": "execute_result",
     "data": {
      "text/plain": "[{'num_registros': 131173},\n {'Fecha inicio': \"'27-03-2020'\", 'Fecha fin': \"'14-04-2020'\"},\n {'SpO2':              count       mean       std   min   25%   50%   75%    max\n  FechaHora                                                             \n  2020-03-27  7088.0  97.300226  0.711644  92.0  97.0  97.0  98.0   99.0\n  2020-03-28  7042.0  97.085487  0.708916  93.0  97.0  97.0  97.0   98.0\n  2020-03-29  7137.0  97.274345  0.556861  94.0  97.0  97.0  98.0   98.0\n  2020-03-30  7234.0  97.080039  0.369338  93.0  97.0  97.0  97.0   98.0\n  2020-03-31  6476.0  96.952131  0.520641  93.0  97.0  97.0  97.0   99.0\n  2020-04-01  6835.0  97.581273  0.716420  94.0  97.0  98.0  98.0   99.0\n  2020-04-02  6675.0  97.642097  0.834703  94.0  97.0  98.0  98.0   99.0\n  2020-04-03  6407.0  97.496644  0.554785  93.0  97.0  97.0  98.0   99.0\n  2020-04-04  7093.0  97.578599  0.710035  93.0  97.0  98.0  98.0   99.0\n  2020-04-05  7378.0  97.116021  0.635650  94.0  97.0  97.0  97.0   99.0\n  2020-04-06  7094.0  97.664082  0.657732  94.0  97.0  98.0  98.0  100.0\n  2020-04-07  7307.0  97.179964  1.026100  92.0  97.0  97.0  98.0  100.0\n  2020-04-08  6698.0  97.262168  0.793022  94.0  97.0  97.0  98.0   99.0\n  2020-04-09  6884.0  97.564497  0.652710  96.0  97.0  98.0  98.0   99.0\n  2020-04-10  6329.0  97.463738  0.695607  95.0  97.0  97.0  98.0   99.0\n  2020-04-11  6820.0  97.180205  0.555674  94.0  97.0  97.0  98.0   99.0\n  2020-04-12  7104.0  97.266892  0.536959  94.0  97.0  97.0  98.0   99.0\n  2020-04-13  6447.0  97.356445  0.532658  94.0  97.0  97.0  98.0   99.0\n  2020-04-14  7125.0  97.425965  0.562265  95.0  97.0  97.0  98.0   99.0},\n {'Latidos':              count       mean       std   min   25%   50%   75%   max\n  FechaHora                                                            \n  2020-03-27  7088.0  57.780615  5.364173  43.0  54.0  57.0  60.0  90.0\n  2020-03-28  7042.0  55.625533  3.880503  41.0  54.0  55.0  57.0  88.0\n  2020-03-29  7137.0  55.935827  3.959800  43.0  54.0  55.0  57.0  84.0\n  2020-03-30  7234.0  56.196295  3.192632  43.0  54.0  56.0  58.0  85.0\n  2020-03-31  6476.0  55.663372  4.722805  45.0  53.0  55.0  57.0  97.0\n  2020-04-01  6835.0  56.922312  3.152122  46.0  55.0  56.0  58.0  83.0\n  2020-04-02  6675.0  58.484345  3.531508  45.0  56.0  59.0  60.0  81.0\n  2020-04-03  6407.0  57.471359  3.658812  34.0  55.0  58.0  59.0  87.0\n  2020-04-04  7093.0  57.231778  4.476122  33.0  56.0  57.0  59.0  87.0\n  2020-04-05  7378.0  59.085525  3.080613  44.0  57.0  59.0  61.0  82.0\n  2020-04-06  7094.0  57.620242  3.298080  34.0  56.0  58.0  59.0  80.0\n  2020-04-07  7307.0  56.184070  3.136275  44.0  54.0  56.0  57.0  81.0\n  2020-04-08  6698.0  57.174679  3.573450  38.0  55.0  57.0  59.0  81.0\n  2020-04-09  6884.0  57.303021  3.028412  46.0  55.0  57.0  59.0  80.0\n  2020-04-10  6329.0  58.404961  3.862546  47.0  56.0  58.0  60.0  82.0\n  2020-04-11  6820.0  58.252786  3.061481  47.0  56.0  58.0  60.0  87.0\n  2020-04-12  7104.0  57.256194  3.549845  45.0  55.0  57.0  59.0  82.0\n  2020-04-13  6447.0  55.658291  3.084049  43.0  54.0  55.0  57.0  82.0\n  2020-04-14  7125.0  58.867228  3.286361  49.0  57.0  59.0  61.0  87.0}]"
     },
     "metadata": {},
     "execution_count": 10
    }
   ],
   "source": [
    "summary.data_info_frame(nights)"
   ]
  },
  {
   "cell_type": "code",
   "execution_count": null,
   "metadata": {},
   "outputs": [],
   "source": []
  }
 ],
 "metadata": {
  "kernelspec": {
   "display_name": "Python 3",
   "language": "python",
   "name": "python3"
  },
  "language_info": {
   "codemirror_mode": {
    "name": "ipython",
    "version": 3
   },
   "file_extension": ".py",
   "mimetype": "text/x-python",
   "name": "python",
   "nbconvert_exporter": "python",
   "pygments_lexer": "ipython3",
   "version": "3.7.6-final"
  }
 },
 "nbformat": 4,
 "nbformat_minor": 4
}