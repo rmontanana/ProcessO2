{
 "cells": [
  {
   "cell_type": "code",
   "execution_count": 20,
   "metadata": {},
   "outputs": [],
   "source": [
    "import pandas as pd\n",
    "import numpy as np\n",
    "import glob\n",
    "import io\n",
    "from ipywidgets import Output, IntSlider, DatePicker, interact, IntRangeSlider, Label, link, dlink\n",
    "from IPython.display import clear_output\n",
    "import datetime\n",
    "\n",
    "eliminar_nulos = True\n",
    "dir_datos = '../O2Measures'"
   ]
  },
  {
   "cell_type": "code",
   "execution_count": 21,
   "metadata": {},
   "outputs": [],
   "source": [
    "def get_file_contents(file_name):\n",
    "    \"\"\"\n",
    "    Gets the file content removing possibly duplicated content\n",
    "    @param: string file_name\n",
    "    @return: string content of the file\n",
    "    \"\"\"\n",
    "    with open(file_name) as f:\n",
    "        data = f.read()\n",
    "        if data.count('Time') > 1:\n",
    "            token = 'Time'\n",
    "            position = data.find(token, 10)\n",
    "            return data[0:position]\n",
    "        else:\n",
    "            return data"
   ]
  },
  {
   "cell_type": "code",
   "execution_count": 22,
   "metadata": {},
   "outputs": [
    {
     "name": "stdout",
     "output_type": "stream",
     "text": [
      "Loaded 17 files.\n"
     ]
    }
   ],
   "source": [
    "csv = None\n",
    "num = 0\n",
    "for file in glob.glob(dir_datos + '/*.csv'):\n",
    "    content = get_file_contents(file)\n",
    "    num += 1\n",
    "    if csv is None:\n",
    "        csv = pd.read_csv(io.StringIO(content))\n",
    "    else:\n",
    "        csv = pd.concat([csv, pd.read_csv(io.StringIO(content))])\n",
    "print(f\"Loaded {num} files.\")"
   ]
  },
  {
   "cell_type": "code",
   "execution_count": 23,
   "metadata": {},
   "outputs": [
    {
     "name": "stdout",
     "output_type": "stream",
     "text": [
      "Se han eliminado 74 registros\n"
     ]
    }
   ],
   "source": [
    "#Elimina los nulos si procede\n",
    "if eliminar_nulos:\n",
    "    antes = csv.count()[0]\n",
    "    csv = csv.replace(255, np.nan).dropna()\n",
    "    print(\"Se han eliminado {0} registros\".format(antes-csv.count()[0]))"
   ]
  },
  {
   "cell_type": "code",
   "execution_count": 24,
   "metadata": {},
   "outputs": [],
   "source": [
    "#Cambia tipo a los campos numéricos\n",
    "cambio = {'SpO2(%)': 'unsigned', 'Pulse Rate(bmp)': 'unsigned', 'Movimiento': 'unsigned', 'Vibración': 'unsigned'}\n",
    "for variable, tipo in cambio.items():\n",
    "    csv[variable] = pd.to_numeric(csv[variable], downcast=tipo)"
   ]
  },
  {
   "cell_type": "code",
   "execution_count": 25,
   "metadata": {},
   "outputs": [],
   "source": [
    "#Cambia tipo a la fecha\n",
    "p1='%H:%M:%S %b %d'\n",
    "p2='%Y'\n",
    "special_char = (csv['Time'][0:1])[0][15]\n",
    "formato = p1 + special_char + p2\n",
    "csv['Time'] = pd.to_datetime(csv['Time'], format=formato)"
   ]
  },
  {
   "cell_type": "code",
   "execution_count": 26,
   "metadata": {},
   "outputs": [
    {
     "name": "stdout",
     "output_type": "stream",
     "text": [
      "Se han corregido 7137 registros\n",
      "Ahora quedan 0 desubicados\n"
     ]
    }
   ],
   "source": [
    "#Actualiza fechas de 1970 generadas la noche del cambio de hora 29/03/2020\n",
    "inicio = pd.to_datetime('12/12/1969')\n",
    "fin = pd.to_datetime('12/12/2018')\n",
    "registros = csv[csv.Time.between(inicio, fin)].count()[0]\n",
    "sumando = pd.to_timedelta(365 * 50 + 100, unit='d')\n",
    "mask = (csv.Time.between(inicio, fin))\n",
    "csv.loc[mask, 'Time'] = csv[mask]['Time'] + sumando\n",
    "print(f\"Se han corregido {registros} registros\")\n",
    "registros = csv[csv.Time.between(inicio, fin)].count()[0]\n",
    "print(f\"Ahora quedan {registros} desubicados\")"
   ]
  },
  {
   "cell_type": "code",
   "execution_count": 27,
   "metadata": {},
   "outputs": [
    {
     "data": {
      "text/plain": [
       "Time               datetime64[ns]\n",
       "SpO2(%)                     uint8\n",
       "Pulse Rate(bmp)             uint8\n",
       "Movimiento                  uint8\n",
       "Vibración                   uint8\n",
       "dtype: object"
      ]
     },
     "execution_count": 27,
     "metadata": {},
     "output_type": "execute_result"
    }
   ],
   "source": [
    "csv.dtypes"
   ]
  },
  {
   "cell_type": "code",
   "execution_count": 28,
   "metadata": {},
   "outputs": [
    {
     "name": "stdout",
     "output_type": "stream",
     "text": [
      "Se han partido correctamente los datos?: True\n"
     ]
    }
   ],
   "source": [
    "csv = csv.set_index('Time')\n",
    "#genera dias y noches\n",
    "noches = csv.between_time('00:00', '11:00')\n",
    "dias = csv.between_time('11:01', '23:59')\n",
    "print(\"Se han partido correctamente los datos?: {0}\".format(dias.count()[0] + noches.count()[0] == csv.count()[0]))"
   ]
  },
  {
   "cell_type": "code",
   "execution_count": 29,
   "metadata": {},
   "outputs": [
    {
     "name": "stdout",
     "output_type": "stream",
     "text": [
      "==================Días====================\n",
      "           SpO2(%)  Pulse Rate(bmp)   Movimiento    Vibración\n",
      "count  6202.000000      6202.000000  6202.000000  6202.000000\n",
      "mean     94.510319        92.204773     6.516446     0.041277\n",
      "std       1.621489        19.454767     9.667866     2.298392\n",
      "min      88.000000        57.000000     0.000000     0.000000\n",
      "25%      93.000000        74.000000     2.000000     0.000000\n",
      "50%      95.000000        91.000000     3.000000     0.000000\n",
      "75%      96.000000       110.000000     7.000000     0.000000\n",
      "max      98.000000       131.000000   139.000000   128.000000\n",
      "=================Noches===================\n",
      "            SpO2(%)  Pulse Rate(bmp)    Movimiento  Vibración\n",
      "count  61987.000000     61987.000000  61987.000000    61987.0\n",
      "mean      97.330747        56.803669      0.586413        0.0\n",
      "std        0.687652         4.164620      3.758877        0.0\n",
      "min       92.000000        33.000000      0.000000        0.0\n",
      "25%       97.000000        54.000000      0.000000        0.0\n",
      "50%       97.000000        56.000000      0.000000        0.0\n",
      "75%       98.000000        59.000000      0.000000        0.0\n",
      "max       99.000000        97.000000    118.000000        0.0\n"
     ]
    }
   ],
   "source": [
    "print(\"==================Días====================\")\n",
    "print(dias.describe())\n",
    "print(\"=================Noches===================\")\n",
    "print(noches.describe())"
   ]
  },
  {
   "cell_type": "code",
   "execution_count": 30,
   "metadata": {},
   "outputs": [
    {
     "data": {
      "application/vnd.jupyter.widget-view+json": {
       "model_id": "4517e8f7aca84cd08d0ae47e8dbf31c1",
       "version_major": 2,
       "version_minor": 0
      },
      "text/plain": [
       "interactive(children=(DatePicker(value=None, description='Fecha'), Output()), _dom_classes=('widget-interact',…"
      ]
     },
     "metadata": {},
     "output_type": "display_data"
    },
    {
     "data": {
      "text/plain": [
       "<function __main__.f(control)>"
      ]
     },
     "execution_count": 30,
     "metadata": {},
     "output_type": "execute_result"
    }
   ],
   "source": [
    "def f(control):\n",
    "    if control is not None:\n",
    "        fecha = datetime.datetime(control.year, control.month, control.day).strftime(\"%Y-%m-%d\")\n",
    "        if noches[fecha].size > 0:\n",
    "            noches[fecha][['SpO2(%)', 'Pulse Rate(bmp)']].plot(figsize=(20,15), color=('orange', 'green'), title='Noche', grid=True)\n",
    "            dias[fecha][['SpO2(%)', 'Pulse Rate(bmp)']].plot(figsize=(20,15), color=('red', 'blue'), title='Día', grid=True)\n",
    "        else:\n",
    "            print(\"No hay datos\")\n",
    "interact(f, control=DatePicker(description='Fecha'))"
   ]
  },
  {
   "cell_type": "code",
   "execution_count": 31,
   "metadata": {},
   "outputs": [
    {
     "name": "stdout",
     "output_type": "stream",
     "text": [
      "Valor mínimo de SpO2 de noche: 92\n"
     ]
    },
    {
     "data": {
      "text/plain": [
       "<matplotlib.axes._subplots.AxesSubplot at 0x7fbae1052048>"
      ]
     },
     "execution_count": 31,
     "metadata": {},
     "output_type": "execute_result"
    },
    {
     "data": {
      "image/png": "[encoded data removed]",
      "text/plain": [
       "<Figure size 1440x1080 with 1 Axes>"
      ]
     },
     "metadata": {
      "needs_background": "light"
     },
     "output_type": "display_data"
    }
   ],
   "source": [
    "#Imprime el gráfico correspondiente a la noche con el valor mínimo de SpO2(%)\n",
    "mino2 = noches['SpO2(%)'].min()\n",
    "mino2_idx = noches['SpO2(%)'].idxmin()\n",
    "fecha = datetime.date(mino2_idx.year, mino2_idx.month, mino2_idx.day).strftime(\"%Y-%m-%d\")\n",
    "print(f\"Valor mínimo de SpO2 de noche: {mino2}\")\n",
    "noches[fecha][['SpO2(%)', 'Pulse Rate(bmp)']].plot(figsize=(20,15), color=('brown', 'purple'), title='Noche de valor mínimo', grid=True)"
   ]
  },
  {
   "cell_type": "code",
   "execution_count": 32,
   "metadata": {},
   "outputs": [
    {
     "data": {
      "application/vnd.jupyter.widget-view+json": {
       "model_id": "b14c817731314d33a42fe78588ce56f6",
       "version_major": 2,
       "version_minor": 0
      },
      "text/plain": [
       "interactive(children=(DatePicker(value=datetime.date(2020, 3, 27), description='Fecha'), IntRangeSlider(value=…"
      ]
     },
     "metadata": {},
     "output_type": "display_data"
    },
    {
     "data": {
      "text/plain": [
       "<function __main__.actua(fecha, horas)>"
      ]
     },
     "execution_count": 32,
     "metadata": {},
     "output_type": "execute_result"
    }
   ],
   "source": [
    "def crea_date(indice):\n",
    "    return datetime.date(indice.year, indice.month, indice.day)\n",
    "def crea_datetime(indice, hora):\n",
    "    return datetime.datetime(indice.year, indice.month, indice.day, hora)\n",
    "def calcula_horas(df, fecha):\n",
    "    indices = df[fecha.strftime(\"%Y-%m-%d\")].index\n",
    "    if indices.size == 0:\n",
    "        return 0, 0\n",
    "    inicial = indices[0]\n",
    "    fecha_inicial = crea_date(inicial)\n",
    "    ultima = noches[fecha_inicial.strftime(\"%Y-%m-%d\")].index[-1] or 0\n",
    "    hora_inicial = inicial.hour\n",
    "    hora_final = ultima.hour\n",
    "    primera = noches.index.min()\n",
    "    return hora_inicial, hora_final\n",
    "def crea_grafico(df, fecha, horas):\n",
    "    ini, fin = horas\n",
    "    if fecha is not None:\n",
    "        st = crea_datetime(fecha, ini)\n",
    "        en = crea_datetime(fecha, fin)\n",
    "        noches[(df.index >= st) & (df.index <= en)]['SpO2(%)'].plot(legend=False, figsize=(15,10))\n",
    "def actua(fecha, horas):\n",
    "    if fecha is not None:\n",
    "        # Actualiza extremos del intervalo de horas\n",
    "        min, max = calcula_horas(noches, fecha)\n",
    "        choras.min = -1 # por si acaso no hay datos evita un error\n",
    "        choras.max = max\n",
    "        choras.min = min\n",
    "        # Calcula intervalo y representa gráfico si hay datos\n",
    "        st = crea_datetime(fecha, horas[0])\n",
    "        en = crea_datetime(fecha, horas[1])\n",
    "        if noches[(noches.index >= st) & (noches.index <= en)]['SpO2(%)'].size > 0:\n",
    "            noches[(noches.index >= st) & (noches.index <= en)]['SpO2(%)'].plot(legend=False, figsize=(15,10))\n",
    "        else:\n",
    "            clear_output()\n",
    "            print(\"No hay datos para esa fecha.\")\n",
    "primera = crea_date(noches.index.min())\n",
    "hora_inicial, hora_final = calcula_horas(noches, primera)\n",
    "cfecha = DatePicker(description='Fecha', value=primera)\n",
    "choras = IntRangeSlider(value=[hora_inicial, hora_final], min=hora_inicial, max=hora_final, description='Horas:', continuous_update=True)\n",
    "interact(actua, fecha=cfecha, horas=choras)"
   ]
  },
  {
   "cell_type": "code",
   "execution_count": 33,
   "metadata": {},
   "outputs": [
    {
     "data": {
      "application/vnd.jupyter.widget-view+json": {
       "model_id": "f4e5af6fa870457b90c1038d826d15f1",
       "version_major": 2,
       "version_minor": 0
      },
      "text/plain": [
       "DatePicker(value=datetime.date(2020, 3, 27), description='kk')"
      ]
     },
     "metadata": {},
     "output_type": "display_data"
    },
    {
     "data": {
      "application/vnd.jupyter.widget-view+json": {
       "model_id": "f1619d4c1ac7437eb9a818e24d4156af",
       "version_major": 2,
       "version_minor": 0
      },
      "text/plain": [
       "IntRangeSlider(value=(2, 10), description='Horas:', max=10, min=2)"
      ]
     },
     "metadata": {},
     "output_type": "display_data"
    },
    {
     "data": {
      "application/vnd.jupyter.widget-view+json": {
       "model_id": "2643e2f98a63408e9ba98b08165c02a5",
       "version_major": 2,
       "version_minor": 0
      },
      "text/plain": [
       "Output()"
      ]
     },
     "metadata": {},
     "output_type": "display_data"
    },
    {
     "data": {
      "text/plain": [
       "<matplotlib.axes._subplots.AxesSubplot at 0x7fbae0d3cfd0>"
      ]
     },
     "metadata": {},
     "output_type": "display_data"
    },
    {
     "data": {
      "image/png": "[encoded data removed]",
      "text/plain": [
       "<Figure size 1080x720 with 1 Axes>"
      ]
     },
     "metadata": {
      "needs_background": "light"
     },
     "output_type": "display_data"
    }
   ],
   "source": [
    "\n",
    "def crea_datetime(indice, hora):\n",
    "    return datetime.datetime(indice.year, indice.month, indice.day, hora)\n",
    "\n",
    "def crea_grafico(df, fecha, horas):\n",
    "    ini, fin = horas\n",
    "    if fecha is not None:\n",
    "        st = crea_datetime(fecha, ini)\n",
    "        en = crea_datetime(fecha, fin)\n",
    "        return noches[(df.index >= st) & (df.index <= en)]['SpO2(%)'].plot(legend=False, figsize=(15,10))\n",
    "    else:\n",
    "        return None\n",
    "def crea_controlador_horas(hora_inicial, hora_final):\n",
    "    return IntRangeSlider(value=[hora_inicial, hora_final], min=hora_inicial, max=hora_final, description='Horas:')\n",
    "\n",
    "def proceso_fecha_test(datos):\n",
    "    with output:\n",
    "        print(\"Éxito\",datos)\n",
    "        fecha = datos.owner.value\n",
    "        crea_grafico(noches, fecha, horas.value)\n",
    "def proceso_horas(datos):\n",
    "    with output:\n",
    "        print('Cambio Hora')\n",
    "        fecha = cfecha.value\n",
    "        grafico = crea_grafico(noches, fecha, datos.new)\n",
    "\n",
    "indice_primera = noches.index.min()\n",
    "primera = crea_date(indice_primera)\n",
    "ini, fin = calcula_horas(noches, primera)\n",
    "cfecha = DatePicker(description='Fecha', value=primera)\n",
    "horas = crea_controlador_horas(ini, fin)\n",
    "output = Output()\n",
    "#cfecha.observe(proceso_fecha, names='value')\n",
    "cfecha.observe(proceso_fecha_test, names='description')\n",
    "horas.observe(proceso_horas, names='value')\n",
    "grafico = crea_grafico(noches, primera, (ini, fin))\n",
    "cfecha.description='kk'\n",
    "display(cfecha, horas, output, grafico)\n"
   ]
  },
  {
   "cell_type": "code",
   "execution_count": 34,
   "metadata": {},
   "outputs": [
    {
     "data": {
      "application/vnd.jupyter.widget-view+json": {
       "model_id": "f2e034782ec543398f0dc25e55a2b1e0",
       "version_major": 2,
       "version_minor": 0
      },
      "text/plain": [
       "interactive(children=(Dropdown(description='street', options=('BERRY', 'UNIVERSITY', 'ROSEDALE'), value='BERRY…"
      ]
     },
     "metadata": {},
     "output_type": "display_data"
    },
    {
     "data": {
      "text/plain": [
       "<function __main__.get_street(street=['BERRY', 'UNIVERSITY', 'ROSEDALE'])>"
      ]
     },
     "execution_count": 34,
     "metadata": {},
     "output_type": "execute_result"
    }
   ],
   "source": [
    "def get_accidents(street_name): \n",
    "    part1 = 'https://data.fortworthtexas.gov/resource/kr8h-9zxd.json?streetname='\n",
    "    api_call = part1 + street_name\n",
    "    return pd.read_json(api_call)\n",
    "\n",
    "def get_street(street = ['BERRY', 'UNIVERSITY', 'ROSEDALE']): \n",
    "    df = get_accidents(street)\n",
    "    return df.head()\n",
    "    \n",
    "interact(get_street)"
   ]
  },
  {
   "cell_type": "code",
   "execution_count": 35,
   "metadata": {},
   "outputs": [
    {
     "data": {
      "application/vnd.jupyter.widget-view+json": {
       "model_id": "4faf1835030d41d88546282a963d3ddb",
       "version_major": 2,
       "version_minor": 0
      },
      "text/plain": [
       "IntSlider(value=0)"
      ]
     },
     "metadata": {},
     "output_type": "display_data"
    },
    {
     "data": {
      "application/vnd.jupyter.widget-view+json": {
       "model_id": "a01ae3c5cc2a413d897bc735721f5f30",
       "version_major": 2,
       "version_minor": 0
      },
      "text/plain": [
       "Output()"
      ]
     },
     "metadata": {},
     "output_type": "display_data"
    }
   ],
   "source": [
    "int_range = IntSlider()\n",
    "output2 = Output()\n",
    "\n",
    "display(int_range, output2)\n",
    "\n",
    "def on_value_change(change):\n",
    "    with output2:\n",
    "        display.clear()\n",
    "        print(change['new'])\n",
    "        \n",
    "\n",
    "int_range.observe(on_value_change, names='value')"
   ]
  },
  {
   "cell_type": "code",
   "execution_count": 36,
   "metadata": {},
   "outputs": [
    {
     "data": {
      "application/vnd.jupyter.widget-view+json": {
       "model_id": "2c375d3237464f25a114c3656a874677",
       "version_major": 2,
       "version_minor": 0
      },
      "text/plain": [
       "Label(value='The values of slider1 and slider2 are synchronized')"
      ]
     },
     "metadata": {},
     "output_type": "display_data"
    },
    {
     "data": {
      "application/vnd.jupyter.widget-view+json": {
       "model_id": "d8869c2b2c4c431eb00b20edd92ac693",
       "version_major": 2,
       "version_minor": 0
      },
      "text/plain": [
       "IntSlider(value=0, description='Slider 1')"
      ]
     },
     "metadata": {},
     "output_type": "display_data"
    },
    {
     "data": {
      "application/vnd.jupyter.widget-view+json": {
       "model_id": "87cb032bc6c34b17acec3df02e37d4e7",
       "version_major": 2,
       "version_minor": 0
      },
      "text/plain": [
       "IntSlider(value=0, description='Slider 2')"
      ]
     },
     "metadata": {},
     "output_type": "display_data"
    }
   ],
   "source": [
    "\n",
    "caption = Label(value='The values of slider1 and slider2 are synchronized')\n",
    "sliders1, slider2 = IntSlider(description='Slider 1'),\\\n",
    "                    IntSlider(description='Slider 2')\n",
    "l = link((sliders1, 'value'), (slider2, 'value'))\n",
    "display(caption, sliders1, slider2)"
   ]
  },
  {
   "cell_type": "code",
   "execution_count": 37,
   "metadata": {},
   "outputs": [
    {
     "data": {
      "application/vnd.jupyter.widget-view+json": {
       "model_id": "6af3d8d25d214041ac46f930b2267721",
       "version_major": 2,
       "version_minor": 0
      },
      "text/plain": [
       "Label(value='Changes in source values are reflected in target1')"
      ]
     },
     "metadata": {},
     "output_type": "display_data"
    },
    {
     "data": {
      "application/vnd.jupyter.widget-view+json": {
       "model_id": "e9d319a9c2954e619e7b9b822255f7ff",
       "version_major": 2,
       "version_minor": 0
      },
      "text/plain": [
       "IntSlider(value=0, description='Source')"
      ]
     },
     "metadata": {},
     "output_type": "display_data"
    },
    {
     "data": {
      "application/vnd.jupyter.widget-view+json": {
       "model_id": "61bc30c15ca14b538d7950096164bc44",
       "version_major": 2,
       "version_minor": 0
      },
      "text/plain": [
       "IntSlider(value=0, description='Target 1')"
      ]
     },
     "metadata": {},
     "output_type": "display_data"
    }
   ],
   "source": [
    "caption = Label(value='Changes in source values are reflected in target1')\n",
    "source, target1 = IntSlider(description='Source'),\\\n",
    "                  IntSlider(description='Target 1')\n",
    "dl = dlink((source, 'value'), (target1, 'value'))\n",
    "display(caption, source, target1)"
   ]
  },
  {
   "cell_type": "code",
   "execution_count": 38,
   "metadata": {},
   "outputs": [
    {
     "data": {
      "application/vnd.jupyter.widget-view+json": {
       "model_id": "7252763df7534efc8d6b69224ef8b5ca",
       "version_major": 2,
       "version_minor": 0
      },
      "text/plain": [
       "VBox(children=(IntSlider(value=50), Output()))"
      ]
     },
     "metadata": {},
     "output_type": "display_data"
    },
    {
     "data": {
      "image/png": "[encoded data removed]",
      "text/plain": [
       "<Figure size 432x288 with 1 Axes>"
      ]
     },
     "metadata": {
      "needs_background": "light"
     },
     "output_type": "display_data"
    }
   ],
   "source": [
    "from ipywidgets import Output, IntSlider, VBox\n",
    "from IPython.display import clear_output\n",
    "out = Output()\n",
    "\n",
    "slider = IntSlider()\n",
    "\n",
    "def square(change):\n",
    "    with out:\n",
    "        clear_output()\n",
    "        print(change.new*change.new)\n",
    "        noches[['SpO2(%)', 'Pulse Rate(bmp)']].plot()\n",
    "slider.observe(square, 'value')\n",
    "slider.value = 50\n",
    "display(VBox([slider, out]))"
   ]
  },
  {
   "cell_type": "code",
   "execution_count": 39,
   "metadata": {},
   "outputs": [],
   "source": [
    "k = {}"
   ]
  },
  {
   "cell_type": "code",
   "execution_count": 40,
   "metadata": {},
   "outputs": [],
   "source": [
    "k['desde'] = datetime.date(2020, 3, 27)\n",
    "k['hasta'] = datetime.date(2020, 3, 30)\n",
    "p={'dia': datetime.date(2020, 3, 28), 'SpO2(%)': 91}\n",
    "k['menor'] = p\n"
   ]
  },
  {
   "cell_type": "code",
   "execution_count": 41,
   "metadata": {},
   "outputs": [
    {
     "name": "stdout",
     "output_type": "stream",
     "text": [
      "68189\n"
     ]
    }
   ],
   "source": [
    "print(csv.shape[0])"
   ]
  },
  {
   "cell_type": "code",
   "execution_count": 42,
   "metadata": {},
   "outputs": [
    {
     "name": "stdout",
     "output_type": "stream",
     "text": [
      "91\n"
     ]
    }
   ],
   "source": [
    "\n",
    "print(k['menor']['SpO2(%)'])"
   ]
  },
  {
   "cell_type": "markdown",
   "metadata": {},
   "source": [
    "+ Estadísticas generales\n",
    "    - Rango de fechas\n",
    "    - Número de registros\n",
    "    - media de registros por día\n",
    "    - Número de noches y número de días\n",
    "+ Estadísticas SpO2\n",
    "    - Valor más bajo medido y si es día o noche\n",
    "    - Valor más alto medido y si es día o noche\n",
    "    - Valor medio\n",
    "    - Valor medio día\n",
    "    - Valor medio noche\n",
    "    - Desviaciones típicas\n",
    "    - Media SpO2 día\n",
    "    - Media SpO2 noche\n",
    "+ Estadísticas Pulsaciones\n",
    " (iguales a SpO2)\n",
    "\n"
   ]
  },
  {
   "cell_type": "code",
   "execution_count": 44,
   "metadata": {},
   "outputs": [
    {
     "data": {
      "text/html": [
       "<div>\n",
       "<style scoped>\n",
       "    .dataframe tbody tr th:only-of-type {\n",
       "        vertical-align: middle;\n",
       "    }\n",
       "\n",
       "    .dataframe tbody tr th {\n",
       "        vertical-align: top;\n",
       "    }\n",
       "\n",
       "    .dataframe thead th {\n",
       "        text-align: right;\n",
       "    }\n",
       "</style>\n",
       "<table border=\"1\" class=\"dataframe\">\n",
       "  <thead>\n",
       "    <tr style=\"text-align: right;\">\n",
       "      <th></th>\n",
       "      <th>SpO2(%)</th>\n",
       "      <th>Pulse Rate(bmp)</th>\n",
       "      <th>Movimiento</th>\n",
       "      <th>Vibración</th>\n",
       "    </tr>\n",
       "    <tr>\n",
       "      <th>Time</th>\n",
       "      <th></th>\n",
       "      <th></th>\n",
       "      <th></th>\n",
       "      <th></th>\n",
       "    </tr>\n",
       "  </thead>\n",
       "  <tbody>\n",
       "    <tr>\n",
       "      <th>2020-03-31</th>\n",
       "      <td>96.853772</td>\n",
       "      <td>59.617662</td>\n",
       "      <td>1.437215</td>\n",
       "      <td>0.003244</td>\n",
       "    </tr>\n",
       "    <tr>\n",
       "      <th>2020-04-30</th>\n",
       "      <td>97.376866</td>\n",
       "      <td>60.580680</td>\n",
       "      <td>0.698194</td>\n",
       "      <td>0.004454</td>\n",
       "    </tr>\n",
       "  </tbody>\n",
       "</table>\n",
       "</div>"
      ],
      "text/plain": [
       "              SpO2(%)  Pulse Rate(bmp)  Movimiento  Vibración\n",
       "Time                                                         \n",
       "2020-03-31  96.853772        59.617662    1.437215   0.003244\n",
       "2020-04-30  97.376866        60.580680    0.698194   0.004454"
      ]
     },
     "execution_count": 44,
     "metadata": {},
     "output_type": "execute_result"
    }
   ],
   "source": [
    "csv.groupby(pd.Grouper(freq='M')).mean()"
   ]
  },
  {
   "cell_type": "code",
   "execution_count": 45,
   "metadata": {},
   "outputs": [
    {
     "name": "stdout",
     "output_type": "stream",
     "text": [
      "Media por día\n",
      "               SpO2(%)  Pulse Rate(bmp)  Movimiento  Vibración\n",
      "Time                                                         \n",
      "2020-03-27  96.941384        62.019119    1.048931   0.016101\n",
      "2020-03-28  96.398986        62.804631    2.841399   0.000000\n",
      "2020-03-29  97.274345        55.935827    0.848256   0.000000\n",
      "2020-03-30  96.884615        59.710069    1.076156   0.000000\n",
      "2020-03-31  96.952131        55.663372    0.817326   0.000000\n",
      "2020-04-01  97.581273        56.922312    0.767081   0.000000\n",
      "2020-04-02  97.336966        62.349931    0.730069   0.000000\n",
      "2020-04-03  97.275946        61.446961    0.720757   0.018349\n",
      "2020-04-04  97.324257        61.379885    0.586243   0.000000\n",
      "\n",
      "Desviación Típica por día\n",
      "              SpO2(%)  Pulse Rate(bmp)  Movimiento  Vibración\n",
      "Time                                                        \n",
      "2020-03-27  1.367482        14.295777    5.275907   1.435577\n",
      "2020-03-28  1.475132        14.396333    7.634547   0.000000\n",
      "2020-03-29  0.556861         3.959800    4.293184   0.000000\n",
      "2020-03-30  0.915665        13.154579    4.372154   0.000000\n",
      "2020-03-31  0.520641         4.722805    3.803938   0.000000\n",
      "2020-04-01  0.716420         3.152122    3.918641   0.000000\n",
      "2020-04-02  1.377438        13.923966    4.383196   0.000000\n",
      "2020-04-03  1.008623        14.178455    3.993185   1.532522\n",
      "2020-04-04  1.164285        15.340149    3.217337   0.000000\n",
      "\n",
      "Número de registros\n",
      "             SpO2(%)  Pulse Rate(bmp)  Movimiento  Vibración\n",
      "Time                                                       \n",
      "2020-03-27     7950             7950        7950       7950\n",
      "2020-03-28    10063            10063       10063      10063\n",
      "2020-03-29     7137             7137        7137       7137\n",
      "2020-03-30     7826             7826        7826       7826\n",
      "2020-03-31     6476             6476        6476       6476\n",
      "2020-04-01     6835             6835        6835       6835\n",
      "2020-04-02     7250             7250        7250       7250\n",
      "2020-04-03     6976             6976        6976       6976\n",
      "2020-04-04     7676             7676        7676       7676\n",
      "\n",
      "Número de registros aggregate\n",
      "            SpO2(%)           \n",
      "             count       mean\n",
      "Time                         \n",
      "2020-03-27    7950  96.941384\n",
      "2020-03-28   10063  96.398986\n",
      "2020-03-29    7137  97.274345\n",
      "2020-03-30    7826  96.884615\n",
      "2020-03-31    6476  96.952131\n",
      "2020-04-01    6835  97.581273\n",
      "2020-04-02    7250  97.336966\n",
      "2020-04-03    6976  97.275946\n",
      "2020-04-04    7676  97.324257\n",
      "\n",
      "Número de registros describe\n",
      "             SpO2(%)                                                     \\\n",
      "              count       mean       std   min   25%   50%   75%   max   \n",
      "Time                                                                     \n",
      "2020-03-27   7950.0  96.941384  1.367482  88.0  97.0  97.0  98.0  99.0   \n",
      "2020-03-28  10063.0  96.398986  1.475132  90.0  96.0  97.0  97.0  98.0   \n",
      "2020-03-29   7137.0  97.274345  0.556861  94.0  97.0  97.0  98.0  98.0   \n",
      "2020-03-30   7826.0  96.884615  0.915665  90.0  97.0  97.0  97.0  98.0   \n",
      "2020-03-31   6476.0  96.952131  0.520641  93.0  97.0  97.0  97.0  99.0   \n",
      "2020-04-01   6835.0  97.581273  0.716420  94.0  97.0  98.0  98.0  99.0   \n",
      "2020-04-02   7250.0  97.336966  1.377438  90.0  97.0  98.0  98.0  99.0   \n",
      "2020-04-03   6976.0  97.275946  1.008623  90.0  97.0  97.0  98.0  99.0   \n",
      "2020-04-04   7676.0  97.324257  1.164285  91.0  97.0  98.0  98.0  99.0   \n",
      "\n",
      "           Pulse Rate(bmp)             ... Movimiento        Vibración  \\\n",
      "                     count       mean  ...        75%    max     count   \n",
      "Time                                   ...                               \n",
      "2020-03-27          7950.0  62.019119  ...        0.0  136.0    7950.0   \n",
      "2020-03-28         10063.0  62.804631  ...        1.0  139.0   10063.0   \n",
      "2020-03-29          7137.0  55.935827  ...        1.0  118.0    7137.0   \n",
      "2020-03-30          7826.0  59.710069  ...        1.0  101.0    7826.0   \n",
      "2020-03-31          6476.0  55.663372  ...        1.0   93.0    6476.0   \n",
      "2020-04-01          6835.0  56.922312  ...        1.0  110.0    6835.0   \n",
      "2020-04-02          7250.0  62.349931  ...        0.0  104.0    7250.0   \n",
      "2020-04-03          6976.0  61.446961  ...        0.0   97.0    6976.0   \n",
      "2020-04-04          7676.0  61.379885  ...        0.0   77.0    7676.0   \n",
      "\n",
      "                                                           \n",
      "                mean       std  min  25%  50%  75%    max  \n",
      "Time                                                       \n",
      "2020-03-27  0.016101  1.435577  0.0  0.0  0.0  0.0  128.0  \n",
      "2020-03-28  0.000000  0.000000  0.0  0.0  0.0  0.0    0.0  \n",
      "2020-03-29  0.000000  0.000000  0.0  0.0  0.0  0.0    0.0  \n",
      "2020-03-30  0.000000  0.000000  0.0  0.0  0.0  0.0    0.0  \n",
      "2020-03-31  0.000000  0.000000  0.0  0.0  0.0  0.0    0.0  \n",
      "2020-04-01  0.000000  0.000000  0.0  0.0  0.0  0.0    0.0  \n",
      "2020-04-02  0.000000  0.000000  0.0  0.0  0.0  0.0    0.0  \n",
      "2020-04-03  0.018349  1.532522  0.0  0.0  0.0  0.0  128.0  \n",
      "2020-04-04  0.000000  0.000000  0.0  0.0  0.0  0.0    0.0  \n",
      "\n",
      "[9 rows x 32 columns]\n"
     ]
    }
   ],
   "source": [
    "print(\"Media por día\\n\", csv.groupby(pd.Grouper(freq='d')).mean())\n",
    "print(\"\\nDesviación Típica por día\\n\", csv.groupby(pd.Grouper(freq='d')).std())\n",
    "print(\"\\nNúmero de registros\\n\", csv.groupby(pd.Grouper(freq='d')).count())\n",
    "print(\"\\nNúmero de registros aggregate\\n\", csv.groupby(pd.Grouper(freq='d')).agg({'SpO2(%)':['count', 'mean']}))\n",
    "print(\"\\nNúmero de registros describe\\n\", csv.groupby(pd.Grouper(freq='d')).describe())"
   ]
  },
  {
   "cell_type": "code",
   "execution_count": 46,
   "metadata": {},
   "outputs": [
    {
     "name": "stdout",
     "output_type": "stream",
     "text": [
      "\n",
      "Número de registros describe\n",
      "               count       mean       std   min   25%   50%   75%   max\n",
      "Time                                                                  \n",
      "2020-03-27   7950.0  96.941384  1.367482  88.0  97.0  97.0  98.0  99.0\n",
      "2020-03-28  10063.0  96.398986  1.475132  90.0  96.0  97.0  97.0  98.0\n",
      "2020-03-29   7137.0  97.274345  0.556861  94.0  97.0  97.0  98.0  98.0\n",
      "2020-03-30   7826.0  96.884615  0.915665  90.0  97.0  97.0  97.0  98.0\n",
      "2020-03-31   6476.0  96.952131  0.520641  93.0  97.0  97.0  97.0  99.0\n",
      "2020-04-01   6835.0  97.581273  0.716420  94.0  97.0  98.0  98.0  99.0\n",
      "2020-04-02   7250.0  97.336966  1.377438  90.0  97.0  98.0  98.0  99.0\n",
      "2020-04-03   6976.0  97.275946  1.008623  90.0  97.0  97.0  98.0  99.0\n",
      "2020-04-04   7676.0  97.324257  1.164285  91.0  97.0  98.0  98.0  99.0\n"
     ]
    }
   ],
   "source": [
    "print(\"\\nNúmero de registros describe\\n\", csv['SpO2(%)'].groupby(pd.Grouper(freq='d')).describe())"
   ]
  },
  {
   "cell_type": "code",
   "execution_count": 47,
   "metadata": {},
   "outputs": [],
   "source": [
    "data = csv['SpO2(%)'].groupby(pd.Grouper(freq='d')).describe()"
   ]
  },
  {
   "cell_type": "code",
   "execution_count": 60,
   "metadata": {},
   "outputs": [
    {
     "data": {
      "text/plain": [
       "rec.array([('2020-03-27T00:00:00.000000000',  7950., 96.94138365, 1.36748195, 88., 97., 97., 98., 99.),\n",
       "           ('2020-03-28T00:00:00.000000000', 10063., 96.39898639, 1.47513242, 90., 96., 97., 97., 98.),\n",
       "           ('2020-03-29T00:00:00.000000000',  7137., 97.27434496, 0.55686107, 94., 97., 97., 98., 98.),\n",
       "           ('2020-03-30T00:00:00.000000000',  7826., 96.88461538, 0.91566472, 90., 97., 97., 97., 98.),\n",
       "           ('2020-03-31T00:00:00.000000000',  6476., 96.95213095, 0.52064121, 93., 97., 97., 97., 99.),\n",
       "           ('2020-04-01T00:00:00.000000000',  6835., 97.58127286, 0.71642004, 94., 97., 98., 98., 99.),\n",
       "           ('2020-04-02T00:00:00.000000000',  7250., 97.33696552, 1.37743843, 90., 97., 98., 98., 99.),\n",
       "           ('2020-04-03T00:00:00.000000000',  6976., 97.2759461 , 1.00862259, 90., 97., 97., 98., 99.),\n",
       "           ('2020-04-04T00:00:00.000000000',  7676., 97.32425743, 1.1642852 , 91., 97., 98., 98., 99.)],\n",
       "          dtype=[('Time', '<M8[ns]'), ('count', '<f8'), ('mean', '<f8'), ('std', '<f8'), ('min', '<f8'), ('25%', '<f8'), ('50%', '<f8'), ('75%', '<f8'), ('max', '<f8')])"
      ]
     },
     "execution_count": 60,
     "metadata": {},
     "output_type": "execute_result"
    }
   ],
   "source": [
    "data.to_records()"
   ]
  },
  {
   "cell_type": "code",
   "execution_count": 52,
   "metadata": {},
   "outputs": [
    {
     "name": "stdout",
     "output_type": "stream",
     "text": [
      "count\n",
      "mean\n",
      "std\n",
      "min\n",
      "25%\n",
      "50%\n",
      "75%\n",
      "max\n"
     ]
    }
   ],
   "source": [
    "for d in data:\n",
    "    print(d)"
   ]
  },
  {
   "cell_type": "code",
   "execution_count": 61,
   "metadata": {},
   "outputs": [
    {
     "name": "stdout",
     "output_type": "stream",
     "text": [
      "4.2\n"
     ]
    }
   ],
   "source": [
    "print(300*7/500)"
   ]
  },
  {
   "cell_type": "code",
   "execution_count": 62,
   "metadata": {},
   "outputs": [
    {
     "data": {
      "text/html": [
       "<div>\n",
       "<style scoped>\n",
       "    .dataframe tbody tr th:only-of-type {\n",
       "        vertical-align: middle;\n",
       "    }\n",
       "\n",
       "    .dataframe tbody tr th {\n",
       "        vertical-align: top;\n",
       "    }\n",
       "\n",
       "    .dataframe thead th {\n",
       "        text-align: right;\n",
       "    }\n",
       "</style>\n",
       "<table border=\"1\" class=\"dataframe\">\n",
       "  <thead>\n",
       "    <tr style=\"text-align: right;\">\n",
       "      <th></th>\n",
       "      <th>SpO2(%)</th>\n",
       "      <th>Pulse Rate(bmp)</th>\n",
       "      <th>Movimiento</th>\n",
       "      <th>Vibración</th>\n",
       "    </tr>\n",
       "    <tr>\n",
       "      <th>Time</th>\n",
       "      <th></th>\n",
       "      <th></th>\n",
       "      <th></th>\n",
       "      <th></th>\n",
       "    </tr>\n",
       "  </thead>\n",
       "  <tbody>\n",
       "    <tr>\n",
       "      <th>2020-03-27 21:14:11</th>\n",
       "      <td>95</td>\n",
       "      <td>91</td>\n",
       "      <td>0</td>\n",
       "      <td>0</td>\n",
       "    </tr>\n",
       "    <tr>\n",
       "      <th>2020-03-27 21:14:15</th>\n",
       "      <td>95</td>\n",
       "      <td>91</td>\n",
       "      <td>0</td>\n",
       "      <td>0</td>\n",
       "    </tr>\n",
       "    <tr>\n",
       "      <th>2020-03-27 21:14:19</th>\n",
       "      <td>96</td>\n",
       "      <td>87</td>\n",
       "      <td>2</td>\n",
       "      <td>0</td>\n",
       "    </tr>\n",
       "    <tr>\n",
       "      <th>2020-03-27 21:14:23</th>\n",
       "      <td>96</td>\n",
       "      <td>87</td>\n",
       "      <td>3</td>\n",
       "      <td>0</td>\n",
       "    </tr>\n",
       "    <tr>\n",
       "      <th>2020-03-27 21:14:27</th>\n",
       "      <td>96</td>\n",
       "      <td>88</td>\n",
       "      <td>0</td>\n",
       "      <td>0</td>\n",
       "    </tr>\n",
       "    <tr>\n",
       "      <th>...</th>\n",
       "      <td>...</td>\n",
       "      <td>...</td>\n",
       "      <td>...</td>\n",
       "      <td>...</td>\n",
       "    </tr>\n",
       "    <tr>\n",
       "      <th>2020-03-30 20:35:02</th>\n",
       "      <td>93</td>\n",
       "      <td>88</td>\n",
       "      <td>16</td>\n",
       "      <td>0</td>\n",
       "    </tr>\n",
       "    <tr>\n",
       "      <th>2020-03-30 20:35:06</th>\n",
       "      <td>93</td>\n",
       "      <td>90</td>\n",
       "      <td>27</td>\n",
       "      <td>0</td>\n",
       "    </tr>\n",
       "    <tr>\n",
       "      <th>2020-03-30 20:35:10</th>\n",
       "      <td>93</td>\n",
       "      <td>90</td>\n",
       "      <td>30</td>\n",
       "      <td>0</td>\n",
       "    </tr>\n",
       "    <tr>\n",
       "      <th>2020-03-30 20:35:14</th>\n",
       "      <td>93</td>\n",
       "      <td>90</td>\n",
       "      <td>15</td>\n",
       "      <td>0</td>\n",
       "    </tr>\n",
       "    <tr>\n",
       "      <th>2020-03-30 20:35:18</th>\n",
       "      <td>94</td>\n",
       "      <td>91</td>\n",
       "      <td>8</td>\n",
       "      <td>0</td>\n",
       "    </tr>\n",
       "  </tbody>\n",
       "</table>\n",
       "<p>6202 rows × 4 columns</p>\n",
       "</div>"
      ],
      "text/plain": [
       "                     SpO2(%)  Pulse Rate(bmp)  Movimiento  Vibración\n",
       "Time                                                                \n",
       "2020-03-27 21:14:11       95               91           0          0\n",
       "2020-03-27 21:14:15       95               91           0          0\n",
       "2020-03-27 21:14:19       96               87           2          0\n",
       "2020-03-27 21:14:23       96               87           3          0\n",
       "2020-03-27 21:14:27       96               88           0          0\n",
       "...                      ...              ...         ...        ...\n",
       "2020-03-30 20:35:02       93               88          16          0\n",
       "2020-03-30 20:35:06       93               90          27          0\n",
       "2020-03-30 20:35:10       93               90          30          0\n",
       "2020-03-30 20:35:14       93               90          15          0\n",
       "2020-03-30 20:35:18       94               91           8          0\n",
       "\n",
       "[6202 rows x 4 columns]"
      ]
     },
     "execution_count": 62,
     "metadata": {},
     "output_type": "execute_result"
    }
   ],
   "source": [
    "dias"
   ]
  },
  {
   "cell_type": "code",
   "execution_count": 64,
   "metadata": {},
   "outputs": [],
   "source": [
    "a=dias.index[0]"
   ]
  },
  {
   "cell_type": "code",
   "execution_count": 65,
   "metadata": {},
   "outputs": [],
   "source": [
    "b=dias.index[1]"
   ]
  },
  {
   "cell_type": "code",
   "execution_count": 66,
   "metadata": {},
   "outputs": [
    {
     "data": {
      "text/plain": [
       "Timedelta('0 days 00:00:04')"
      ]
     },
     "execution_count": 66,
     "metadata": {},
     "output_type": "execute_result"
    }
   ],
   "source": [
    "b-a"
   ]
  },
  {
   "cell_type": "code",
   "execution_count": 67,
   "metadata": {},
   "outputs": [],
   "source": [
    "b=dias.index[-1]"
   ]
  },
  {
   "cell_type": "code",
   "execution_count": 72,
   "metadata": {},
   "outputs": [
    {
     "data": {
      "text/plain": [
       "2"
      ]
     },
     "execution_count": 72,
     "metadata": {},
     "output_type": "execute_result"
    }
   ],
   "source": [
    "(b-a).days"
   ]
  },
  {
   "cell_type": "code",
   "execution_count": 73,
   "metadata": {},
   "outputs": [
    {
     "data": {
      "text/plain": [
       "8"
      ]
     },
     "execution_count": 73,
     "metadata": {},
     "output_type": "execute_result"
    }
   ],
   "source": [
    "(dias.index.max() - dias.index.min()).days"
   ]
  },
  {
   "cell_type": "code",
   "execution_count": 74,
   "metadata": {},
   "outputs": [
    {
     "data": {
      "text/plain": [
       "180.0"
      ]
     },
     "execution_count": 74,
     "metadata": {},
     "output_type": "execute_result"
    }
   ],
   "source": [
    "300*750/1250"
   ]
  },
  {
   "cell_type": "code",
   "execution_count": 75,
   "metadata": {},
   "outputs": [
    {
     "data": {
      "text/plain": [
       "7.2"
      ]
     },
     "execution_count": 75,
     "metadata": {},
     "output_type": "execute_result"
    }
   ],
   "source": [
    "300*30/1250\n"
   ]
  },
  {
   "cell_type": "code",
   "execution_count": 76,
   "metadata": {},
   "outputs": [
    {
     "name": "stdout",
     "output_type": "stream",
     "text": [
      "1 4\n",
      "2 5\n",
      "3 6\n"
     ]
    }
   ],
   "source": [
    "a=[1,2,3]\n",
    "b=[4,5,6]\n",
    "for k,m in zip(a,b):\n",
    "    print(k,m)"
   ]
  },
  {
   "cell_type": "code",
   "execution_count": null,
   "metadata": {},
   "outputs": [],
   "source": []
  }
 ],
 "metadata": {
  "kernelspec": {
   "display_name": "Python 3",
   "language": "python",
   "name": "python3"
  },
  "language_info": {
   "codemirror_mode": {
    "name": "ipython",
    "version": 3
   },
   "file_extension": ".py",
   "mimetype": "text/x-python",
   "name": "python",
   "nbconvert_exporter": "python",
   "pygments_lexer": "ipython3",
   "version": "3.6.8"
  }
 },
 "nbformat": 4,
 "nbformat_minor": 4
}
